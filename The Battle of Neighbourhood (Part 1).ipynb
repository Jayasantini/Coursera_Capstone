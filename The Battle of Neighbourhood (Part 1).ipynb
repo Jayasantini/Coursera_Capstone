{
 "cells": [
  {
   "cell_type": "markdown",
   "metadata": {},
   "source": [
    "# The Battle of Neighbourhoods - Business Proposal (Week 1)"
   ]
  },
  {
   "cell_type": "markdown",
   "metadata": {},
   "source": [
    "## Background"
   ]
  },
  {
   "cell_type": "markdown",
   "metadata": {},
   "source": [
    "I am doing part-time business in selling customised arts such as graphite sketches, charcoal portraits, and acrylic paintings. I have set up a mini studio in my own room which is now becoming less cozy due to the increased customer’s demands and lack of space. I have decided that it is time to look for a rental space to set up my own studio. Since I have decided to have my own studio, I have planned to do art workshops or classes to school students as well."
   ]
  },
  {
   "cell_type": "markdown",
   "metadata": {},
   "source": [
    "## Business Problem"
   ]
  },
  {
   "cell_type": "markdown",
   "metadata": {},
   "source": [
    "The challenge is to find a suitable rental space for an arts studio in Scarborough. Some of the criteria that I am looking for in a rental space is as per below:\n",
    "\n",
    "•\tDesired location is in near a park in Scarborough\n",
    "\n",
    "•\tRental price is not exceeding $3,500\n",
    "\n",
    "•\tVenues such as entertainment areas should be nearby\n"
   ]
  },
  {
   "cell_type": "markdown",
   "metadata": {},
   "source": [
    "## Interested Audience"
   ]
  },
  {
   "cell_type": "markdown",
   "metadata": {},
   "source": [
    "Whoever wants to open an arts studio or an education center would find this interesting since the methodologies used in this project are generic. "
   ]
  }
 ],
 "metadata": {
  "kernelspec": {
   "display_name": "Python",
   "language": "python",
   "name": "conda-env-python-py"
  },
  "language_info": {
   "codemirror_mode": {
    "name": "ipython",
    "version": 3
   },
   "file_extension": ".py",
   "mimetype": "text/x-python",
   "name": "python",
   "nbconvert_exporter": "python",
   "pygments_lexer": "ipython3",
   "version": "3.6.11"
  }
 },
 "nbformat": 4,
 "nbformat_minor": 4
}
