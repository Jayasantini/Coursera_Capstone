{
 "cells": [
  {
   "cell_type": "markdown",
   "metadata": {},
   "source": [
    "# The Battle of Neighbourhoods - Business Proposal (Week 1)"
   ]
  },
  {
   "cell_type": "markdown",
   "metadata": {},
   "source": [
    "## Data Section"
   ]
  },
  {
   "cell_type": "markdown",
   "metadata": {},
   "source": [
    "List/Information on neighbourhood from Scarborough with the latitude and longitude. \n",
    "\n",
    "Listed space for rent in Scarborough area with descriptions on price, location and address. \n",
    "\n",
    "Venues and amenities in the Scarborough neighbourhood. \n",
    "\n",
    "Foursquare location data will be used to solve the problem or execute my idea."
   ]
  },
  {
   "cell_type": "markdown",
   "metadata": {},
   "source": [
    "## Example of the data will be in the Markdown form as per below:"
   ]
  },
  {
   "cell_type": "markdown",
   "metadata": {},
   "source": [
    "**Borough** | **Neighbourhood** | **Latitude** | **Longitude**\n",
    "--- | --- | --- | ---\n",
    "Downtown Toronto | Regent Park, Harbourfront | 43.654260  | -79.360636\n",
    "Downtown Toronto | Queen's Park, Ontario Provincial Government | 43.662301  | -79.389494\n",
    "Downtown Toronto | Garden District, Ryerson | 43.657162  | -79.378937\n",
    "Downtown Toronto | \tSt. James Town | 43.657162  | -79.378937"
   ]
  }
 ],
 "metadata": {
  "kernelspec": {
   "display_name": "Python",
   "language": "python",
   "name": "conda-env-python-py"
  },
  "language_info": {
   "codemirror_mode": {
    "name": "ipython",
    "version": 3
   },
   "file_extension": ".py",
   "mimetype": "text/x-python",
   "name": "python",
   "nbconvert_exporter": "python",
   "pygments_lexer": "ipython3",
   "version": "3.6.11"
  }
 },
 "nbformat": 4,
 "nbformat_minor": 4
}
